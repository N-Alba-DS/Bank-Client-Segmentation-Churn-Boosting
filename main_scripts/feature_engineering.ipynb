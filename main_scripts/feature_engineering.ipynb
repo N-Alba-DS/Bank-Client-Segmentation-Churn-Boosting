{
 "cells": [
  {
   "cell_type": "markdown",
   "metadata": {},
   "source": [
    "## Librerías"
   ]
  },
  {
   "cell_type": "markdown",
   "metadata": {},
   "source": []
  },
  {
   "cell_type": "code",
   "execution_count": 9,
   "metadata": {},
   "outputs": [],
   "source": [
    "%%capture\n",
    "%run \"../../recurrentes.ipynb\""
   ]
  },
  {
   "cell_type": "code",
   "execution_count": 10,
   "metadata": {},
   "outputs": [],
   "source": [
    "%%capture\n",
    "%run \"../../funciones.ipynb\""
   ]
  },
  {
   "cell_type": "code",
   "execution_count": 11,
   "metadata": {},
   "outputs": [
    {
     "name": "stdout",
     "output_type": "stream",
     "text": [
      "The sql extension is already loaded. To reload it, use:\n",
      "  %reload_ext sql\n"
     ]
    }
   ],
   "source": [
    "%load_ext sql\n",
    "%config SqlMagic.autopandas = True\n",
    "%config SqlMagic.feedback = False\n",
    "%config SqlMagic.displaycon = False\n",
    "%sql duckdb:///:memory:\n",
    "%config SqlMagic.named_parameters = \"enabled\"\n",
    "\n"
   ]
  },
  {
   "cell_type": "markdown",
   "metadata": {},
   "source": [
    "### Creación clase ternaria"
   ]
  },
  {
   "cell_type": "code",
   "execution_count": 12,
   "metadata": {},
   "outputs": [],
   "source": [
    "# %%sql\n",
    "\n",
    "# create or replace table competencia_03 as\n",
    "# with periodos as (\n",
    "#     select distinct foto_mes from competencia_03_crudo\n",
    "# ), clientes as (\n",
    "#     select distinct numero_de_cliente from competencia_03_crudo\n",
    "# ), todo as (\n",
    "#     select numero_de_cliente, foto_mes from clientes cross join periodos\n",
    "# ), clase_ternaria as (\n",
    "#     select\n",
    "#         c.*\n",
    "#         , if(c.numero_de_cliente is null, 0, 1) as mes_0 \n",
    "#         , lead(mes_0, 1) over (partition by t.numero_de_cliente order by foto_mes) as mes_1\n",
    "#         , lead(mes_0, 2) over (partition by t.numero_de_cliente order by foto_mes) as mes_2\n",
    "#         , if(mes_2 = 1, 'CONTINUA',\n",
    "#              if(mes_1 = 0, 'BAJA+1',\n",
    "#                 if(mes_2 = 0,'BAJA+2',NULL))) as clase_ternaria \n",
    "#     from todo t\n",
    "#     left join competencia_03_crudo c using (numero_de_cliente, foto_mes)\n",
    "# ) \n",
    "\n",
    "# select * EXCLUDE (mes_0, mes_1, mes_2) \n",
    "# from clase_ternaria\n",
    "# where mes_0 = 1 \n",
    "# ;\n"
   ]
  },
  {
   "cell_type": "code",
   "execution_count": 13,
   "metadata": {},
   "outputs": [],
   "source": [
    "# %%sql \n",
    "# SELECT * FROM competencia_03;"
   ]
  },
  {
   "cell_type": "code",
   "execution_count": 14,
   "metadata": {},
   "outputs": [],
   "source": [
    "# %sql COPY competencia_03 TO 'D:/competencia_03.parquet' (FORMAT 'PARQUET');"
   ]
  },
  {
   "cell_type": "markdown",
   "metadata": {},
   "source": [
    "# Feature Engineering"
   ]
  },
  {
   "cell_type": "code",
   "execution_count": 15,
   "metadata": {},
   "outputs": [
    {
     "data": {
      "text/html": [
       "<div>\n",
       "<style scoped>\n",
       "    .dataframe tbody tr th:only-of-type {\n",
       "        vertical-align: middle;\n",
       "    }\n",
       "\n",
       "    .dataframe tbody tr th {\n",
       "        vertical-align: top;\n",
       "    }\n",
       "\n",
       "    .dataframe thead th {\n",
       "        text-align: right;\n",
       "    }\n",
       "</style>\n",
       "<table border=\"1\" class=\"dataframe\">\n",
       "  <thead>\n",
       "    <tr style=\"text-align: right;\">\n",
       "      <th></th>\n",
       "      <th>Success</th>\n",
       "    </tr>\n",
       "  </thead>\n",
       "  <tbody>\n",
       "  </tbody>\n",
       "</table>\n",
       "</div>"
      ],
      "text/plain": [
       "Empty DataFrame\n",
       "Columns: [Success]\n",
       "Index: []"
      ]
     },
     "execution_count": 15,
     "metadata": {},
     "output_type": "execute_result"
    }
   ],
   "source": [
    "%%sql\n",
    "CREATE OR REPLACE TABLE competencia_03 AS\n",
    "SELECT * FROM read_parquet(:dataset_clase_ternaria_sin_psi_l);"
   ]
  },
  {
   "cell_type": "code",
   "execution_count": 17,
   "metadata": {},
   "outputs": [],
   "source": [
    "paired_variables = [\n",
    "    ('mtarjeta_visa_consumo', 'mtarjeta_master_consumo'),\n",
    "    ('ctarjeta_visa_debitos_automaticos', 'ctarjeta_master_debitos_automaticos'),\n",
    "    ('mttarjeta_visa_debitos_automaticos', 'mttarjeta_master_debitos_automaticos'),\n",
    "    ('ctarjeta_visa_descuentos', 'ctarjeta_master_descuentos'),\n",
    "    ('mtarjeta_visa_descuentos', 'mtarjeta_master_descuentos'),\n",
    "    ('Visa_Fvencimiento', 'Master_Fvencimiento'),\n",
    "    ('Visa_msaldototal', 'Master_msaldototal'),\n",
    "    ('Visa_msaldopesos', 'Master_msaldopesos'),\n",
    "    ('Visa_msaldodolares', 'Master_msaldodolares'),\n",
    "    ('Visa_mconsumospesos', 'Master_mconsumospesos'),\n",
    "    ('Visa_mconsumosdolares', 'Master_mconsumosdolares'),\n",
    "    ('Visa_mlimitecompra', 'Master_mlimitecompra'),\n",
    "    ('Visa_madelantopesos', 'Master_madelantopesos'),\n",
    "    ('Visa_madelantodolares', 'Master_madelantodolares'),\n",
    "    ('Visa_fultimo_cierre', 'Master_fultimo_cierre'),\n",
    "    ('Visa_mpagado', 'Master_mpagado'),\n",
    "    ('Visa_mpagospesos', 'Master_mpagospesos'),\n",
    "    ('Visa_mpagosdolares', 'Master_mpagosdolares'),\n",
    "    ('Visa_fechaalta', 'Master_fechaalta'),\n",
    "    ('Visa_mconsumotal', 'Master_mconsumototal'),\n",
    "    ('Visa_cconsumos', 'Master_cconsumos'),\n",
    "    ('Visa_cadelantosefectivo', 'Master_cadelantosefectivo'),\n",
    "    ('Visa_mpagominimo', 'Master_mpagominimo')\n",
    "]"
   ]
  },
  {
   "cell_type": "code",
   "execution_count": 25,
   "metadata": {},
   "outputs": [],
   "source": [
    "tarjetas_variables = [\n",
    "    \n",
    "    ('ctarjeta_visa_debitos_automaticos', 'ctarjeta_master_debitos_automaticos'),\n",
    "    ('mttarjeta_visa_debitos_automaticos', 'mttarjeta_master_debitos_automaticos'),\n",
    "    ('ctarjeta_visa_descuentos', 'ctarjeta_master_descuentos'),\n",
    "    ('mtarjeta_visa_descuentos', 'mtarjeta_master_descuentos'),\n",
    "   \n",
    "    ('Visa_msaldototal', 'Master_msaldototal'),\n",
    "    ('Visa_msaldopesos', 'Master_msaldopesos'),\n",
    "    ('Visa_msaldodolares', 'Master_msaldodolares'),\n",
    "    ('Visa_mconsumospesos', 'Master_mconsumospesos'),\n",
    "    ('Visa_mconsumosdolares', 'Master_mconsumosdolares'),\n",
    "    ('Visa_mlimitecompra', 'Master_mlimitecompra'),\n",
    "    ('Visa_madelantopesos', 'Master_madelantopesos'),\n",
    "    ('Visa_madelantodolares', 'Master_madelantodolares'),\n",
    "    ('Visa_fultimo_cierre', 'Master_fultimo_cierre'),\n",
    "    ('Visa_mpagado', 'Master_mpagado'),\n",
    "    ('Visa_mpagospesos', 'Master_mpagospesos'),\n",
    "    ('Visa_mpagosdolares', 'Master_mpagosdolares'),\n",
    "    ('Visa_fechaalta', 'Master_fechaalta'),\n",
    "    \n",
    "    ('Visa_cconsumos', 'Master_cconsumos'),\n",
    "    ('Visa_cadelantosefectivo', 'Master_cadelantosefectivo'),\n",
    "    ('Visa_mpagominimo', 'Master_mpagominimo')\n",
    "]\n"
   ]
  },
  {
   "cell_type": "code",
   "execution_count": 26,
   "metadata": {},
   "outputs": [],
   "source": [
    "paired_columns = []\n",
    "for visa, master in tarjetas_variables:\n",
    "    paired_columns.append(f\"IFNULL({visa}, 0) + IFNULL ({master},0) AS conjunto_{visa}\")\n",
    "\n",
    "paired_columns_sql = \",\\n    \".join(paired_columns)\n",
    "\n",
    "\n",
    "\n"
   ]
  },
  {
   "cell_type": "code",
   "execution_count": 28,
   "metadata": {},
   "outputs": [
    {
     "data": {
      "text/html": [
       "<div>\n",
       "<style scoped>\n",
       "    .dataframe tbody tr th:only-of-type {\n",
       "        vertical-align: middle;\n",
       "    }\n",
       "\n",
       "    .dataframe tbody tr th {\n",
       "        vertical-align: top;\n",
       "    }\n",
       "\n",
       "    .dataframe thead th {\n",
       "        text-align: right;\n",
       "    }\n",
       "</style>\n",
       "<table border=\"1\" class=\"dataframe\">\n",
       "  <thead>\n",
       "    <tr style=\"text-align: right;\">\n",
       "      <th></th>\n",
       "      <th>Success</th>\n",
       "    </tr>\n",
       "  </thead>\n",
       "  <tbody>\n",
       "  </tbody>\n",
       "</table>\n",
       "</div>"
      ],
      "text/plain": [
       "Empty DataFrame\n",
       "Columns: [Success]\n",
       "Index: []"
      ]
     },
     "execution_count": 28,
     "metadata": {},
     "output_type": "execute_result"
    }
   ],
   "source": [
    "query = f\"\"\"\n",
    "CREATE OR REPLACE TABLE competencia_03 AS\n",
    "SELECT *,\n",
    "    {paired_columns_sql}\n",
    "FROM competencia_03\n",
    "\"\"\"\n",
    "\n",
    "%sql {{query}}"
   ]
  },
  {
   "cell_type": "code",
   "execution_count": 29,
   "metadata": {},
   "outputs": [
    {
     "data": {
      "text/html": [
       "<div>\n",
       "<style scoped>\n",
       "    .dataframe tbody tr th:only-of-type {\n",
       "        vertical-align: middle;\n",
       "    }\n",
       "\n",
       "    .dataframe tbody tr th {\n",
       "        vertical-align: top;\n",
       "    }\n",
       "\n",
       "    .dataframe thead th {\n",
       "        text-align: right;\n",
       "    }\n",
       "</style>\n",
       "<table border=\"1\" class=\"dataframe\">\n",
       "  <thead>\n",
       "    <tr style=\"text-align: right;\">\n",
       "      <th></th>\n",
       "      <th>Success</th>\n",
       "    </tr>\n",
       "  </thead>\n",
       "  <tbody>\n",
       "  </tbody>\n",
       "</table>\n",
       "</div>"
      ],
      "text/plain": [
       "Empty DataFrame\n",
       "Columns: [Success]\n",
       "Index: []"
      ]
     },
     "execution_count": 29,
     "metadata": {},
     "output_type": "execute_result"
    }
   ],
   "source": [
    "%%sql \n",
    "\n",
    "\n",
    "create or replace table competencia_03 as\n",
    "select\n",
    "    *,\n",
    "    (case when Visa_status = 0 then True end) as T_Visa_normal,\n",
    "    (case when Master_status = 0 then True end) as T_Master_normal\n",
    "from competencia_03;\n",
    "\n",
    "\n",
    "create or replace table competencia_03 as\n",
    "        select *,\n",
    "        CASE \n",
    "        WHEN Visa_status = 6 then 1\n",
    "        WHEN Visa_status = 7 then 2 \n",
    "        WHEN Visa_status = 8 then 3\n",
    "        ELSE NULL\n",
    "        END as Visa_status\n",
    "        from competencia_03;"
   ]
  },
  {
   "cell_type": "code",
   "execution_count": 30,
   "metadata": {},
   "outputs": [
    {
     "data": {
      "text/html": [
       "<div>\n",
       "<style scoped>\n",
       "    .dataframe tbody tr th:only-of-type {\n",
       "        vertical-align: middle;\n",
       "    }\n",
       "\n",
       "    .dataframe tbody tr th {\n",
       "        vertical-align: top;\n",
       "    }\n",
       "\n",
       "    .dataframe thead th {\n",
       "        text-align: right;\n",
       "    }\n",
       "</style>\n",
       "<table border=\"1\" class=\"dataframe\">\n",
       "  <thead>\n",
       "    <tr style=\"text-align: right;\">\n",
       "      <th></th>\n",
       "      <th>Success</th>\n",
       "    </tr>\n",
       "  </thead>\n",
       "  <tbody>\n",
       "  </tbody>\n",
       "</table>\n",
       "</div>"
      ],
      "text/plain": [
       "Empty DataFrame\n",
       "Columns: [Success]\n",
       "Index: []"
      ]
     },
     "execution_count": 30,
     "metadata": {},
     "output_type": "execute_result"
    }
   ],
   "source": [
    "%%sql\n",
    "\n",
    "alter table competencia_03 drop column visa_status;\n",
    "alter table competencia_03 drop column Master_status;"
   ]
  },
  {
   "cell_type": "code",
   "execution_count": 38,
   "metadata": {},
   "outputs": [],
   "source": [
    "lista_feature = ['active_quarter',\n",
    " 'mrentabilidad',\n",
    " \n",
    " 'mcuenta_corriente',\n",
    " 'mcaja_ahorro',\n",
    " 'mcuentas_saldo',\n",
    " 'ctarjeta_debito_transacciones',\n",
    " 'mautoservicio',\n",
    " 'mprestamos_prendarios',\n",
    " 'cprestamos_hipotecarios',\n",
    " 'mprestamos_hipotecarios',\n",
    " 'cplazo_fijo',\n",
    " 'mplazo_fijo_dolares',\n",
    " 'mplazo_fijo_pesos',\n",
    " 'cpayroll_trx',\n",
    " 'mpayroll',\n",
    " 'mpayroll2',\n",
    " 'cpayroll2_trx',\n",
    " 'ccuenta_debitos_automaticos',\n",
    " 'mcuenta_debitos_automaticos',\n",
    " 'cpagodeservicios',\n",
    " 'mpagodeservicios',\n",
    " 'mpagomiscuentas',\n",
    " 'cpagomiscuentas',\n",
    " 'ccajeros_propios_descuentos',\n",
    " 'mcajeros_propios_descuentos',\n",
    " 'ccomisiones_mantenimiento',\n",
    " 'ccomisiones_otras',\n",
    " 'cforex',\n",
    " 'cforex_buy',\n",
    " 'mforex_buy',\n",
    " 'cforex_sell',\n",
    " 'mforex_sell',\n",
    " 'ctransferencias_recibidas',\n",
    " 'ctransferencias_emitidas',\n",
    " 'mtransferencias_emitidas',\n",
    " 'cextraccion_autoservicio',\n",
    " 'mextraccion_autoservicio',\n",
    " 'ccheques_depositados',\n",
    " 'mcheques_depositados',\n",
    " 'ccheques_emitidos',\n",
    " 'mcheques_emitidos',\n",
    " 'ccheques_depositados_rechazados',\n",
    " 'mcheques_depositados_rechazados',\n",
    " 'ccheques_emitidos_rechazados',\n",
    " 'mcheques_emitidos_rechazados',\n",
    " 'ccallcenter_transacciones',\n",
    " 'chomebanking_transacciones',\n",
    " 'ccajas_transacciones',\n",
    " 'ccajas_consultas',\n",
    " 'ccajas_depositos',\n",
    " 'ccajas_extracciones',\n",
    " 'ccajas_otras',\n",
    " 'catm_trx',\n",
    " 'matm',\n",
    " 'catm_trx_other',\n",
    " 'matm_other',\n",
    " 'ctrx_quarter',\n",
    " 'conjunto_ctarjeta_visa_debitos_automaticos',\n",
    " 'conjunto_mttarjeta_visa_debitos_automaticos',\n",
    " 'conjunto_ctarjeta_visa_descuentos',\n",
    " 'conjunto_mtarjeta_visa_descuentos',\n",
    " 'conjunto_Visa_msaldototal',\n",
    " 'conjunto_Visa_msaldopesos',\n",
    " 'conjunto_Visa_msaldodolares',\n",
    " 'conjunto_Visa_mconsumospesos',\n",
    " 'conjunto_Visa_mconsumosdolares',\n",
    " 'conjunto_Visa_mlimitecompra',\n",
    " 'conjunto_Visa_madelantopesos',\n",
    " 'conjunto_Visa_madelantodolares',\n",
    " 'conjunto_Visa_fultimo_cierre',\n",
    " 'conjunto_Visa_mpagado',\n",
    " 'conjunto_Visa_mpagospesos',\n",
    " 'conjunto_Visa_mpagosdolares',\n",
    " 'conjunto_Visa_fechaalta',\n",
    " 'conjunto_Visa_cconsumos',\n",
    " 'conjunto_Visa_cadelantosefectivo',\n",
    " 'conjunto_Visa_mpagominimo']\n",
    "\n"
   ]
  },
  {
   "cell_type": "code",
   "execution_count": 39,
   "metadata": {},
   "outputs": [
    {
     "data": {
      "text/html": [
       "<div>\n",
       "<style scoped>\n",
       "    .dataframe tbody tr th:only-of-type {\n",
       "        vertical-align: middle;\n",
       "    }\n",
       "\n",
       "    .dataframe tbody tr th {\n",
       "        vertical-align: top;\n",
       "    }\n",
       "\n",
       "    .dataframe thead th {\n",
       "        text-align: right;\n",
       "    }\n",
       "</style>\n",
       "<table border=\"1\" class=\"dataframe\">\n",
       "  <thead>\n",
       "    <tr style=\"text-align: right;\">\n",
       "      <th></th>\n",
       "      <th>Success</th>\n",
       "    </tr>\n",
       "  </thead>\n",
       "  <tbody>\n",
       "  </tbody>\n",
       "</table>\n",
       "</div>"
      ],
      "text/plain": [
       "Empty DataFrame\n",
       "Columns: [Success]\n",
       "Index: []"
      ]
     },
     "execution_count": 39,
     "metadata": {},
     "output_type": "execute_result"
    }
   ],
   "source": [
    "lag_columns = []\n",
    "for variable in lista_feature:\n",
    "    lag_columns.append(f\"lag({variable}, 1) over (partition by numero_de_cliente order by foto_mes) as {variable}_lag_1\")\n",
    "    lag_columns.append(f\"lag({variable}, 2) over (partition by numero_de_cliente order by foto_mes) as {variable}_lag_2\")\n",
    "\n",
    "\n",
    "lag_columns_sql = \",\\n    \".join(lag_columns)\n",
    "\n",
    "\n",
    "query = f\"\"\"\n",
    "CREATE OR REPLACE TABLE competencia_03 AS\n",
    "SELECT *,\n",
    "    {lag_columns_sql}\n",
    "FROM competencia_03\n",
    "\"\"\"\n",
    "\n",
    "%sql {{query}}\n",
    "\n"
   ]
  },
  {
   "cell_type": "code",
   "execution_count": 40,
   "metadata": {},
   "outputs": [
    {
     "data": {
      "text/html": [
       "<div>\n",
       "<style scoped>\n",
       "    .dataframe tbody tr th:only-of-type {\n",
       "        vertical-align: middle;\n",
       "    }\n",
       "\n",
       "    .dataframe tbody tr th {\n",
       "        vertical-align: top;\n",
       "    }\n",
       "\n",
       "    .dataframe thead th {\n",
       "        text-align: right;\n",
       "    }\n",
       "</style>\n",
       "<table border=\"1\" class=\"dataframe\">\n",
       "  <thead>\n",
       "    <tr style=\"text-align: right;\">\n",
       "      <th></th>\n",
       "      <th>Success</th>\n",
       "    </tr>\n",
       "  </thead>\n",
       "  <tbody>\n",
       "  </tbody>\n",
       "</table>\n",
       "</div>"
      ],
      "text/plain": [
       "Empty DataFrame\n",
       "Columns: [Success]\n",
       "Index: []"
      ]
     },
     "execution_count": 40,
     "metadata": {},
     "output_type": "execute_result"
    }
   ],
   "source": [
    "delta_columns = []\n",
    "for variable in lista_feature:\n",
    "    nombre_variable = variable+'_delta_1'\n",
    "    nombre_variable_2 = variable+'_delta_2'\n",
    "    delta_columns.append(f\"{variable} - {variable}_lag_1 as {nombre_variable}\")\n",
    "    delta_columns.append(f\"{variable}_lag_1 - {variable}_lag_2 as {nombre_variable_2}\")\n",
    "\n",
    "delta_columns_sql = \",\\n    \".join(delta_columns)\n",
    "\n",
    "\n",
    "query = f'''CREATE OR REPLACE TABLE competencia_03 AS\n",
    "            select *,\n",
    "            {delta_columns_sql}\n",
    "            from competencia_03'''\n",
    "%sql {{query}}\n",
    "            "
   ]
  },
  {
   "cell_type": "code",
   "execution_count": 41,
   "metadata": {},
   "outputs": [
    {
     "data": {
      "text/plain": [
       "'C:\\\\Users\\\\Admin\\\\Documents\\\\1_Notebook\\\\1_Estudio\\\\1_UBA_Maestria_DS\\\\1_Especializacion\\\\1_Segundo_Semestre\\\\DMEyF\\\\datasets\\\\competencia_3\\\\competencia_03_lags_deltas_y_clase_ternaria.parquet'"
      ]
     },
     "execution_count": 41,
     "metadata": {},
     "output_type": "execute_result"
    }
   ],
   "source": [
    "path_dataset_lags_deltas_y_clase_ternaria = datasets_path_l+r'\\competencia_03_lags_deltas_y_clase_ternaria.parquet'\n",
    "path_dataset_lags_deltas_y_clase_ternaria\n"
   ]
  },
  {
   "cell_type": "code",
   "execution_count": 42,
   "metadata": {},
   "outputs": [
    {
     "data": {
      "text/html": [
       "<div>\n",
       "<style scoped>\n",
       "    .dataframe tbody tr th:only-of-type {\n",
       "        vertical-align: middle;\n",
       "    }\n",
       "\n",
       "    .dataframe tbody tr th {\n",
       "        vertical-align: top;\n",
       "    }\n",
       "\n",
       "    .dataframe thead th {\n",
       "        text-align: right;\n",
       "    }\n",
       "</style>\n",
       "<table border=\"1\" class=\"dataframe\">\n",
       "  <thead>\n",
       "    <tr style=\"text-align: right;\">\n",
       "      <th></th>\n",
       "      <th>Success</th>\n",
       "    </tr>\n",
       "  </thead>\n",
       "  <tbody>\n",
       "  </tbody>\n",
       "</table>\n",
       "</div>"
      ],
      "text/plain": [
       "Empty DataFrame\n",
       "Columns: [Success]\n",
       "Index: []"
      ]
     },
     "execution_count": 42,
     "metadata": {},
     "output_type": "execute_result"
    }
   ],
   "source": [
    "%sql COPY competencia_03 TO '{{path_dataset_lags_deltas_y_clase_ternaria}}' (FORMAT 'parquet')\n"
   ]
  },
  {
   "cell_type": "code",
   "execution_count": null,
   "metadata": {},
   "outputs": [
    {
     "data": {
      "text/plain": [
       "(4735593, 600)"
      ]
     },
     "execution_count": 6,
     "metadata": {},
     "output_type": "execute_result"
    }
   ],
   "source": [
    "datita = pd.read_parquet('C:\\\\Users\\\\Admin\\\\Documents\\\\1_Notebook\\\\1_Estudio\\\\1_UBA_Maestria_DS\\\\1_Especializacion\\\\1_Segundo_Semestre\\\\DMEyF\\\\datasets\\\\competencia_2\\\\competencia_02_lags_deltas_y_clase_ternaria.parquet'\n",
    ") \n",
    "datita.shape"
   ]
  }
 ],
 "metadata": {
  "kernelspec": {
   "display_name": "datascience",
   "language": "python",
   "name": "python3"
  },
  "language_info": {
   "codemirror_mode": {
    "name": "ipython",
    "version": 3
   },
   "file_extension": ".py",
   "mimetype": "text/x-python",
   "name": "python",
   "nbconvert_exporter": "python",
   "pygments_lexer": "ipython3",
   "version": "3.11.9"
  }
 },
 "nbformat": 4,
 "nbformat_minor": 2
}
